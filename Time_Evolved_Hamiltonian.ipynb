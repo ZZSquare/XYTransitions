{
 "cells": [
  {
   "cell_type": "code",
   "execution_count": 7,
   "metadata": {},
   "outputs": [],
   "source": [
    "import numpy as np\n",
    "import pandas as pd\n",
    "from qiskit import QuantumCircuit, QuantumRegister, execute, Aer, providers\n",
    "from qiskit.quantum_info.operators import Operator\n",
    "from qiskit.visualization import plot_histogram\n",
    "from qiskit.compiler import transpile\n",
    "from qiskit.quantum_info.operators import Operator\n",
    "\n",
    "pi = 3.14159265358979323846264338  #instead of np.pi\n",
    "negid = Operator(np.array([[-1,0],[0,1]]))"
   ]
  },
  {
   "cell_type": "code",
   "execution_count": 23,
   "metadata": {},
   "outputs": [
    {
     "name": "stdout",
     "output_type": "stream",
     "text": [
      "[[ 1.   -0.j    0.   +0.j   -0.   +0.j    0.   +0.j    0.   +0.j\n",
      "   0.   +0.j    0.   +0.j    0.   +0.j  ]\n",
      " [ 0.   -0.j   -0.841+0.j    0.   -0.54j  0.   +0.j    0.   +0.j\n",
      "   0.   +0.j    0.   +0.j    0.   +0.j  ]\n",
      " [-0.   -0.j    0.   -0.54j -0.841+0.j   -0.   -0.j    0.   +0.j\n",
      "   0.   +0.j    0.   +0.j    0.   +0.j  ]\n",
      " [ 0.   +0.j    0.   +0.j    0.   +0.j    1.   +0.j    0.   +0.j\n",
      "   0.   +0.j    0.   +0.j    0.   +0.j  ]\n",
      " [ 0.   +0.j    0.   +0.j    0.   +0.j    0.   +0.j    1.   -0.j\n",
      "   0.   +0.j   -0.   +0.j    0.   +0.j  ]\n",
      " [ 0.   +0.j    0.   +0.j    0.   +0.j    0.   +0.j    0.   -0.j\n",
      "  -0.841+0.j    0.   -0.54j  0.   +0.j  ]\n",
      " [ 0.   +0.j    0.   +0.j    0.   +0.j    0.   +0.j   -0.   -0.j\n",
      "   0.   -0.54j -0.841+0.j   -0.   -0.j  ]\n",
      " [ 0.   +0.j    0.   +0.j    0.   +0.j    0.   +0.j    0.   +0.j\n",
      "   0.   +0.j    0.   +0.j    1.   +0.j  ]]\n"
     ]
    },
    {
     "data": {
      "text/html": [
       "<pre style=\"word-wrap: normal;white-space: pre;background: #fff0;line-height: 1.1;font-family: &quot;Courier New&quot;,Courier,monospace\">     ┌──────────────┐\n",
       "q_0: ┤0             ├\n",
       "     │  exp{-i*Hxy} │\n",
       "q_1: ┤1             ├\n",
       "     └──────────────┘\n",
       "q_2: ────────────────\n",
       "                     </pre>"
      ],
      "text/plain": [
       "     ┌──────────────┐\n",
       "q_0: ┤0             ├\n",
       "     │  exp{-i*Hxy} │\n",
       "q_1: ┤1             ├\n",
       "     └──────────────┘\n",
       "q_2: ────────────────\n",
       "                     "
      ]
     },
     "execution_count": 23,
     "metadata": {},
     "output_type": "execute_result"
    }
   ],
   "source": [
    "# input parameter t\n",
    "# output matrix {{exp{-it}, 0}, {0, exp{it}}\n",
    "def v2(t):\n",
    "    negid = Operator(np.array([[-1,0],[0,1]]))\n",
    "    v2 = QuantumCircuit(1, name='v2')\n",
    "    v2.append(negid, [0])\n",
    "    v2.x(0)\n",
    "    v2.u3(np.pi, t, -t, 0)\n",
    "    return v2.to_instruction()\n",
    "\n",
    "def J(t, J):\n",
    "    return J\n",
    "    \n",
    "def B1(t, B):\n",
    "    return B*t\n",
    "\n",
    "# input parameter t\n",
    "# output matrix {{1, 0, 0, 0}, {0, cos(2Jt), -isin(2Jt), 0}, {0, -isin(2Jt), cos(2Jt), 0}, {0, 0, 0, 1}}\n",
    "def Hxy(interval, t, j):\n",
    "    J_term = J(t, j)\n",
    "    Hxy = QuantumCircuit(2, name='exp{-i*Hxy}')\n",
    "    Hxy.u3(np.pi/2, np.pi/2, -np.pi/2, 0) # w2\n",
    "    Hxy.u3(np.pi/2, np.pi/2, -np.pi/2, 1) # w2\n",
    "    Hxy.cnot(1, 0)\n",
    "    Hxy.append(v2(J_term*interval),[0]) #v2\n",
    "    #Hxy.rz\n",
    "    Hxy.u3(2*J_term*interval, -np.pi/2, np.pi/2, 1) #u2  {{cos(theta/2), -isin(theta/2)}, {-isin(theta/2), cos(theta/2)}}\n",
    "    Hxy.cnot(1, 0)\n",
    "    Hxy.u3(np.pi/2, -np.pi/2, np.pi/2, 0) # w1\n",
    "    Hxy.u3(np.pi/2, -np.pi/2, np.pi/2, 1) # w1\n",
    "    return Hxy.to_instruction()\n",
    "    \n",
    "def Bz(interval, t, b):\n",
    "    B_term = B1(t, b)\n",
    "    #print(B_term)\n",
    "    Bz = QuantumCircuit(2, name='exp{-i*Bz}')\n",
    "    Bz.append(v2(B_term*interval),[0])\n",
    "    Bz.i(1)\n",
    "    return Bz.to_instruction()\n",
    "\n",
    "def Bx(t, B):\n",
    "    Bx = QuantumCircuit(2, name='exp{-i*Bx}')\n",
    "    Bx.u3(t*J, -np.pi/2, np.pi/2, 0)\n",
    "    Bx.i(1)\n",
    "    return Bx.to_instruction()\n",
    "\n",
    "def HxyBz(interval, t, J, B):\n",
    "    HxyBz = QuantumCircuit(2, name='HxyBz')\n",
    "    HxyBz.append(Hxy(interval, t, J), [0,1])\n",
    "    HxyBz.append(Bz(interval, t, B), [0,1])\n",
    "    return HxyBz.to_instruction()\n",
    "\n",
    "\n",
    "def twoSpinTrotter(interval, time, j, b1):\n",
    "    circ = QuantumCircuit(3, name='Kyle')\n",
    "    t = interval\n",
    "    #k = \n",
    "    for n in range(int(time/interval)):\n",
    "        #circ.append(HxyBz(interval, t, j, b1), [0,1])\n",
    "        circ.append(Hxy(interval, t, j), [0,1])\n",
    "        #circ.append(Bz(interval, t, b1), [0,1])\n",
    "        #job = execute(circ, Aer.get_backend('unitary_simulator'), backend_options={'method':'unitary', 'fusion_enable':False})\n",
    "        job = execute(circ, Aer.get_backend('unitary_simulator'), backend_options={'method':'unitary', 'fusion_enable':True})\n",
    "        result = job.result()\n",
    "        print(np.around(result.get_unitary(circ), 3))\n",
    "        #circ.draw()\n",
    "        t = t+interval\n",
    "       \n",
    "    #job = execute(circ, Aer.get_backend('unitary_simulator'))\n",
    "    #result = job.result()\n",
    "    #print(np.around(result.get_unitary(circ), 3))\n",
    "    return circ\n",
    "\n",
    "test = twoSpinTrotter(pi/4+0.5, 2, 1, 1)             # General cases!!! pi/4 <----\n",
    "#backend = Aer.get_backend('unitary_simulator')\n",
    "#job = execute(test, backend)\n",
    "#result = job.result()\n",
    "#print(np.around(result.get_unitary(test), 3))\n",
    "test.draw()"
   ]
  },
  {
   "cell_type": "code",
   "execution_count": null,
   "metadata": {},
   "outputs": [],
   "source": []
  }
 ],
 "metadata": {
  "kernelspec": {
   "display_name": "quantumkern",
   "language": "python",
   "name": "quantumkern"
  },
  "language_info": {
   "codemirror_mode": {
    "name": "ipython",
    "version": 3
   },
   "file_extension": ".py",
   "mimetype": "text/x-python",
   "name": "python",
   "nbconvert_exporter": "python",
   "pygments_lexer": "ipython3",
   "version": "3.7.8"
  }
 },
 "nbformat": 4,
 "nbformat_minor": 2
}
